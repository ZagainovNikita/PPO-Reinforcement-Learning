{
 "cells": [
  {
   "cell_type": "code",
   "execution_count": 1,
   "metadata": {},
   "outputs": [],
   "source": [
    "import torch\n",
    "from torch import nn\n",
    "import numpy as np\n",
    "import pandas as pd\n",
    "import matplotlib.pyplot as plt\n",
    "import datetime\n",
    "from typing import Callable, Optional, Type, List, Union, Dict\n",
    "import os\n",
    "\n",
    "import gymnasium as gym\n",
    "import gym_trading_env\n",
    "from gym_trading_env.downloader import download\n",
    "from gymnasium import spaces\n",
    "\n",
    "from stable_baselines3.common.vec_env.dummy_vec_env import DummyVecEnv\n",
    "from stable_baselines3 import A2C, PPO\n",
    "from sb3_contrib.common.recurrent.policies import RecurrentActorCriticPolicy\n",
    "from stable_baselines3.common.policies import ActorCriticPolicy\n",
    "from stable_baselines3.common.torch_layers import MlpExtractor, BaseFeaturesExtractor\n",
    "from stable_baselines3.common.callbacks import EvalCallback\n",
    "from stable_baselines3.common.monitor import Monitor"
   ]
  },
  {
   "cell_type": "code",
   "execution_count": 2,
   "metadata": {},
   "outputs": [],
   "source": [
    "# download(exchange_names=[\"binance\", \"bitfinex2\", \"huobi\"],\n",
    "#     symbols=[\"BTC/USDT\", \"ETH/USDT\"],\n",
    "#     timeframe=\"1h\",\n",
    "#     dir=\"data\",\n",
    "#     since=datetime.datetime(year=2018, month=1, day=1),\n",
    "# )"
   ]
  },
  {
   "cell_type": "code",
   "execution_count": 3,
   "metadata": {},
   "outputs": [],
   "source": [
    "WINDOW_SIZE = 24 * 7\n",
    "\n",
    "def preprocess(df):\n",
    "    df[\"close_feature\"] = df[\"close\"]\n",
    "    df[\"high_feature\"] = df[\"high\"]\n",
    "    df[\"low_feature\"] = df[\"low\"]\n",
    "    df[\"open_feature\"] = df[\"open\"]\n",
    "    df[\"timestamp_growth_feature\"] = df[\"close\"] / df[\"open\"]\n",
    "    df[\"range_feature\"] = df[\"high\"] / df[\"low\"]\n",
    "    df[\"max_recent_cost_feature\"] = df[\"volume\"].rolling(24).max()\n",
    "    df[\"min_recent_cost_feature\"] = df[\"volume\"].rolling(24).min()\n",
    "    df.dropna(inplace=True)\n",
    "    return df"
   ]
  },
  {
   "cell_type": "code",
   "execution_count": 4,
   "metadata": {},
   "outputs": [],
   "source": [
    "env = gym.make(\n",
    "    \"MultiDatasetTradingEnv\",\n",
    "    dataset_dir=\"data/*.pkl\",\n",
    "    preprocess=preprocess,\n",
    "    windows=24 * 7\n",
    ")"
   ]
  },
  {
   "cell_type": "code",
   "execution_count": 5,
   "metadata": {},
   "outputs": [],
   "source": [
    "def make_env():\n",
    "    return gym.make(\n",
    "        \"MultiDatasetTradingEnv\",\n",
    "        dataset_dir=\"data/*.pkl\",\n",
    "        preprocess=preprocess,\n",
    "        windows=WINDOW_SIZE\n",
    "    )\n",
    "\n",
    "vec_env = DummyVecEnv([make_env for _ in range(10)])"
   ]
  },
  {
   "cell_type": "code",
   "execution_count": 6,
   "metadata": {},
   "outputs": [
    {
     "name": "stdout",
     "output_type": "stream",
     "text": [
      "Using cuda device\n"
     ]
    }
   ],
   "source": [
    "class CustomRNN(BaseFeaturesExtractor):\n",
    "    def __init__(self, observation_space: spaces.Box, input_dim: int = 10,\n",
    "                 hidden_dim: int = 512, features_dim: int = 256):\n",
    "        super().__init__(observation_space, features_dim)\n",
    "        self.lstm = nn.LSTM(input_dim, hidden_dim, num_layers=2, bidirectional=True, batch_first=True)\n",
    "        self.relu = nn.ReLU()\n",
    "        self.flat = nn.Flatten()\n",
    "        self.fc = nn.Linear(WINDOW_SIZE * hidden_dim * 2, features_dim)\n",
    "        \n",
    "    def forward(self, observations):\n",
    "        observations = self.lstm(observations)[0]\n",
    "        observations = self.relu(observations)\n",
    "        observations = self.flat(observations)\n",
    "        observations = self.fc(observations)\n",
    "        return observations\n",
    "\n",
    "policy_kwargs = dict(\n",
    "    features_extractor_class=CustomRNN,\n",
    "    features_extractor_kwargs=dict(hidden_dim = 256, features_dim = 128),\n",
    ")\n",
    "model = A2C(\"MlpPolicy\", vec_env,\n",
    "            policy_kwargs=policy_kwargs, verbose=1)"
   ]
  },
  {
   "cell_type": "code",
   "execution_count": 7,
   "metadata": {},
   "outputs": [],
   "source": [
    "eval_callback = EvalCallback(Monitor(env), best_model_save_path=\"./models/\",\n",
    "                              log_path=\"./logs/\", eval_freq=1000,\n",
    "                              n_eval_episodes=5, deterministic=True,\n",
    "                              render=False)"
   ]
  },
  {
   "cell_type": "code",
   "execution_count": 8,
   "metadata": {},
   "outputs": [
    {
     "name": "stdout",
     "output_type": "stream",
     "text": [
      "------------------------------------\n",
      "| time/                 |          |\n",
      "|    fps                | 297      |\n",
      "|    iterations         | 100      |\n",
      "|    time_elapsed       | 16       |\n",
      "|    total_timesteps    | 5000     |\n",
      "| train/                |          |\n",
      "|    entropy_loss       | -0.677   |\n",
      "|    explained_variance | 0.891    |\n",
      "|    learning_rate      | 0.0007   |\n",
      "|    n_updates          | 99       |\n",
      "|    policy_loss        | -0.0012  |\n",
      "|    value_loss         | 6.05e-05 |\n",
      "------------------------------------\n",
      "------------------------------------\n",
      "| time/                 |          |\n",
      "|    fps                | 310      |\n",
      "|    iterations         | 200      |\n",
      "|    time_elapsed       | 32       |\n",
      "|    total_timesteps    | 10000    |\n",
      "| train/                |          |\n",
      "|    entropy_loss       | -0.658   |\n",
      "|    explained_variance | 0.289    |\n",
      "|    learning_rate      | 0.0007   |\n",
      "|    n_updates          | 199      |\n",
      "|    policy_loss        | 0.0054   |\n",
      "|    value_loss         | 0.000243 |\n",
      "------------------------------------\n",
      "------------------------------------\n",
      "| time/                 |          |\n",
      "|    fps                | 317      |\n",
      "|    iterations         | 300      |\n",
      "|    time_elapsed       | 47       |\n",
      "|    total_timesteps    | 15000    |\n",
      "| train/                |          |\n",
      "|    entropy_loss       | -0.462   |\n",
      "|    explained_variance | 0.838    |\n",
      "|    learning_rate      | 0.0007   |\n",
      "|    n_updates          | 299      |\n",
      "|    policy_loss        | -0.00117 |\n",
      "|    value_loss         | 0.000107 |\n",
      "------------------------------------\n",
      "------------------------------------\n",
      "| time/                 |          |\n",
      "|    fps                | 320      |\n",
      "|    iterations         | 400      |\n",
      "|    time_elapsed       | 62       |\n",
      "|    total_timesteps    | 20000    |\n",
      "| train/                |          |\n",
      "|    entropy_loss       | -0.55    |\n",
      "|    explained_variance | 0.798    |\n",
      "|    learning_rate      | 0.0007   |\n",
      "|    n_updates          | 399      |\n",
      "|    policy_loss        | 0.000404 |\n",
      "|    value_loss         | 6.97e-05 |\n",
      "------------------------------------\n",
      "------------------------------------\n",
      "| time/                 |          |\n",
      "|    fps                | 321      |\n",
      "|    iterations         | 500      |\n",
      "|    time_elapsed       | 77       |\n",
      "|    total_timesteps    | 25000    |\n",
      "| train/                |          |\n",
      "|    entropy_loss       | -0.692   |\n",
      "|    explained_variance | 0.849    |\n",
      "|    learning_rate      | 0.0007   |\n",
      "|    n_updates          | 499      |\n",
      "|    policy_loss        | -0.00276 |\n",
      "|    value_loss         | 0.000122 |\n",
      "------------------------------------\n",
      "------------------------------------\n",
      "| time/                 |          |\n",
      "|    fps                | 323      |\n",
      "|    iterations         | 600      |\n",
      "|    time_elapsed       | 92       |\n",
      "|    total_timesteps    | 30000    |\n",
      "| train/                |          |\n",
      "|    entropy_loss       | -0.693   |\n",
      "|    explained_variance | 0.38     |\n",
      "|    learning_rate      | 0.0007   |\n",
      "|    n_updates          | 599      |\n",
      "|    policy_loss        | -0.00136 |\n",
      "|    value_loss         | 5.9e-05  |\n",
      "------------------------------------\n"
     ]
    }
   ],
   "source": [
    "model.learn(total_timesteps=5e6)"
   ]
  },
  {
   "cell_type": "code",
   "execution_count": 9,
   "metadata": {},
   "outputs": [],
   "source": [
    "model.save(\"./models/trader.zip\")"
   ]
  },
  {
   "cell_type": "code",
   "execution_count": 10,
   "metadata": {},
   "outputs": [
    {
     "data": {
      "text/plain": [
       "<stable_baselines3.a2c.a2c.A2C at 0x22dfd8769e0>"
      ]
     },
     "execution_count": 10,
     "metadata": {},
     "output_type": "execute_result"
    }
   ],
   "source": [
    "model.load(\"./models/trader.zip\")"
   ]
  },
  {
   "cell_type": "code",
   "execution_count": null,
   "metadata": {},
   "outputs": [],
   "source": []
  }
 ],
 "metadata": {
  "kernelspec": {
   "display_name": ".venv",
   "language": "python",
   "name": "python3"
  },
  "language_info": {
   "codemirror_mode": {
    "name": "ipython",
    "version": 3
   },
   "file_extension": ".py",
   "mimetype": "text/x-python",
   "name": "python",
   "nbconvert_exporter": "python",
   "pygments_lexer": "ipython3",
   "version": "3.11.8"
  }
 },
 "nbformat": 4,
 "nbformat_minor": 2
}
